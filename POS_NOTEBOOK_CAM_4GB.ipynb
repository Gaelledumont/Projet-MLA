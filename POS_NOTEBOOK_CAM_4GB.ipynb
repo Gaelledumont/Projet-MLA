{
 "cells": [
  {
   "cell_type": "markdown",
   "id": "c66ac3c9-a1d0-4071-a362-d51c62e026f0",
   "metadata": {},
   "source": [
    "### Télécharge le modèle pré-entrainé de l'article"
   ]
  },
  {
   "cell_type": "code",
   "execution_count": 7,
   "id": "6f24e4bb-f0a3-45f4-b5bc-1dea1a21801b",
   "metadata": {},
   "outputs": [
    {
     "name": "stdout",
     "output_type": "stream",
     "text": [
      "Modèle sauvegardé dans le fichier : camembert_article_4GB.pt\n"
     ]
    }
   ],
   "source": [
    "from transformers import CamembertTokenizer, CamembertForMaskedLM\n",
    "import torch\n",
    "# Charger le modèle CamemBERT et son tokenizer\n",
    "model_name = \"camembert-base\"  # Version 4GB\n",
    "model = CamembertForMaskedLM.from_pretrained(model_name)\n",
    "tokenizer = CamembertTokenizer.from_pretrained(model_name)\n",
    "\n",
    "# Spécifiez le chemin du fichier à sauvegarder\n",
    "save_path = \"camembert_article_4GB.pt\"\n",
    "\n",
    "# Sauvegarder le modèle complet (poids + configuration)\n",
    "torch.save(model.state_dict(), save_path)\n",
    "\n",
    "print(f\"Modèle sauvegardé dans le fichier : {save_path}\")"
   ]
  },
  {
   "cell_type": "markdown",
   "id": "ab839765-cd3f-4fb2-8fc9-7feb179d080f",
   "metadata": {},
   "source": [
    "### Lance l'entrainement sur un Dataset"
   ]
  },
  {
   "cell_type": "code",
   "execution_count": 1,
   "id": "85ccc036-ac84-4d99-8c0f-143199c1cfba",
   "metadata": {},
   "outputs": [
    {
     "name": "stderr",
     "output_type": "stream",
     "text": [
      "Epoch 1: 100%|██████████| 904/904 [08:32<00:00,  1.76it/s]\n"
     ]
    },
    {
     "name": "stdout",
     "output_type": "stream",
     "text": [
      "[Epoch 1] train loss=0.9708\n",
      "[Epoch 1] dev acc=91.07%\n",
      "New best dev acc=91.07% (epoch=1)\n"
     ]
    },
    {
     "name": "stderr",
     "output_type": "stream",
     "text": [
      "Epoch 2: 100%|██████████| 904/904 [08:32<00:00,  1.76it/s]\n"
     ]
    },
    {
     "name": "stdout",
     "output_type": "stream",
     "text": [
      "[Epoch 2] train loss=0.2517\n",
      "[Epoch 2] dev acc=95.63%\n",
      "New best dev acc=95.63% (epoch=2)\n"
     ]
    },
    {
     "name": "stderr",
     "output_type": "stream",
     "text": [
      "Epoch 3: 100%|██████████| 904/904 [08:32<00:00,  1.76it/s]\n"
     ]
    },
    {
     "name": "stdout",
     "output_type": "stream",
     "text": [
      "[Epoch 3] train loss=0.1432\n",
      "[Epoch 3] dev acc=95.94%\n",
      "New best dev acc=95.94% (epoch=3)\n"
     ]
    },
    {
     "name": "stderr",
     "output_type": "stream",
     "text": [
      "Epoch 4: 100%|██████████| 904/904 [08:31<00:00,  1.77it/s]\n"
     ]
    },
    {
     "name": "stdout",
     "output_type": "stream",
     "text": [
      "[Epoch 4] train loss=0.0991\n",
      "[Epoch 4] dev acc=97.22%\n",
      "New best dev acc=97.22% (epoch=4)\n"
     ]
    },
    {
     "name": "stderr",
     "output_type": "stream",
     "text": [
      "Epoch 5: 100%|██████████| 904/904 [08:32<00:00,  1.76it/s]\n"
     ]
    },
    {
     "name": "stdout",
     "output_type": "stream",
     "text": [
      "[Epoch 5] train loss=0.0778\n",
      "[Epoch 5] dev acc=97.03%\n"
     ]
    },
    {
     "name": "stderr",
     "output_type": "stream",
     "text": [
      "Epoch 6: 100%|██████████| 904/904 [08:33<00:00,  1.76it/s]\n"
     ]
    },
    {
     "name": "stdout",
     "output_type": "stream",
     "text": [
      "[Epoch 6] train loss=0.0642\n",
      "[Epoch 6] dev acc=96.46%\n"
     ]
    },
    {
     "name": "stderr",
     "output_type": "stream",
     "text": [
      "Epoch 7: 100%|██████████| 904/904 [08:33<00:00,  1.76it/s]\n"
     ]
    },
    {
     "name": "stdout",
     "output_type": "stream",
     "text": [
      "[Epoch 7] train loss=0.0565\n",
      "[Epoch 7] dev acc=97.60%\n",
      "New best dev acc=97.60% (epoch=7)\n"
     ]
    },
    {
     "name": "stderr",
     "output_type": "stream",
     "text": [
      "Epoch 8: 100%|██████████| 904/904 [08:33<00:00,  1.76it/s]\n"
     ]
    },
    {
     "name": "stdout",
     "output_type": "stream",
     "text": [
      "[Epoch 8] train loss=0.0419\n",
      "[Epoch 8] dev acc=97.78%\n",
      "New best dev acc=97.78% (epoch=8)\n"
     ]
    },
    {
     "name": "stderr",
     "output_type": "stream",
     "text": [
      "Epoch 9: 100%|██████████| 904/904 [08:33<00:00,  1.76it/s]\n"
     ]
    },
    {
     "name": "stdout",
     "output_type": "stream",
     "text": [
      "[Epoch 9] train loss=0.0417\n",
      "[Epoch 9] dev acc=97.77%\n"
     ]
    },
    {
     "name": "stderr",
     "output_type": "stream",
     "text": [
      "Epoch 10: 100%|██████████| 904/904 [08:32<00:00,  1.77it/s]\n"
     ]
    },
    {
     "name": "stdout",
     "output_type": "stream",
     "text": [
      "[Epoch 10] train loss=0.0327\n",
      "[Epoch 10] dev acc=97.77%\n"
     ]
    }
   ],
   "source": [
    "from Camembert_4GB_model.pos_trainer import train_pos\n",
    "from transformers import CamembertTokenizer, CamembertForMaskedLM\n",
    "import os\n",
    "\n",
    "os.environ[\"CUDA_VISIBLE_DEVICES\"] = \"1\"\n",
    "model_name = \"camembert-base\"  # Version 4GB\n",
    "tokenizer = CamembertTokenizer.from_pretrained(model_name)\n",
    "\n",
    "def extract_labels(conllu_file):\n",
    "    labels = set()\n",
    "    with open(conllu_file, \"r\", encoding=\"utf-8\") as f:\n",
    "        for line in f:\n",
    "            if not line.startswith(\"#\") and line.strip():  # Ignorer les commentaires et les lignes vides\n",
    "                parts = line.split(\"\\t\")\n",
    "                if len(parts) > 3:  # La 4e colonne est le label POS\n",
    "                    labels.add(parts[3])\n",
    "    return {label: idx for idx, label in enumerate(sorted(labels))}\n",
    "\n",
    "data_train_path = \"fr_gsd-ud-train.conllu\"\n",
    "data_dev_path = \"fr_gsd-ud-dev.conllu\"\n",
    "label2id = extract_labels(data_train_path)\n",
    "\n",
    "num_labels = len(label2id)\n",
    "\n",
    "model = train_pos(\n",
    "    pretrained_path=\"camembert_article_4GB.pt\",\n",
    "    train_path= data_train_path,\n",
    "    dev_path= data_dev_path,\n",
    "    tokenizer=tokenizer,\n",
    "    label2id=label2id,\n",
    "    num_labels=num_labels,\n",
    "    device=\"cuda\",\n",
    "    lr = 3e-5\n",
    "    out_model_path = \"camembert_pos_gsd_article_best.pt\"\n",
    "    )"
   ]
  },
  {
   "cell_type": "code",
   "execution_count": 4,
   "id": "655b58d8-48fa-4601-852a-242ed59221d0",
   "metadata": {},
   "outputs": [
    {
     "name": "stdout",
     "output_type": "stream",
     "text": [
      "Type du modèle : <class 'float'>\n"
     ]
    },
    {
     "ename": "AttributeError",
     "evalue": "'float' object has no attribute 'state_dict'",
     "output_type": "error",
     "traceback": [
      "\u001b[0;31m---------------------------------------------------------------------------\u001b[0m",
      "\u001b[0;31mAttributeError\u001b[0m                            Traceback (most recent call last)",
      "Cell \u001b[0;32mIn[4], line 6\u001b[0m\n\u001b[1;32m      3\u001b[0m \u001b[38;5;28mprint\u001b[39m(\u001b[38;5;124mf\u001b[39m\u001b[38;5;124m\"\u001b[39m\u001b[38;5;124mType du modèle : \u001b[39m\u001b[38;5;132;01m{\u001b[39;00m\u001b[38;5;28mtype\u001b[39m(model)\u001b[38;5;132;01m}\u001b[39;00m\u001b[38;5;124m\"\u001b[39m)\n\u001b[1;32m      5\u001b[0m output_model_path \u001b[38;5;241m=\u001b[39m \u001b[38;5;124m\"\u001b[39m\u001b[38;5;124mcamembert_pos_gsd_article_best.pt\u001b[39m\u001b[38;5;124m\"\u001b[39m\n\u001b[0;32m----> 6\u001b[0m torch\u001b[38;5;241m.\u001b[39msave(\u001b[43mmodel\u001b[49m\u001b[38;5;241;43m.\u001b[39;49m\u001b[43mstate_dict\u001b[49m(), output_model_path)\n\u001b[1;32m      7\u001b[0m \u001b[38;5;28mprint\u001b[39m(\u001b[38;5;124mf\u001b[39m\u001b[38;5;124m\"\u001b[39m\u001b[38;5;124mModèle sauvegardé sous : \u001b[39m\u001b[38;5;132;01m{\u001b[39;00moutput_model_path\u001b[38;5;132;01m}\u001b[39;00m\u001b[38;5;124m\"\u001b[39m)\n",
      "\u001b[0;31mAttributeError\u001b[0m: 'float' object has no attribute 'state_dict'"
     ]
    }
   ],
   "source": [
    "# Enregistrer le modèle entraîné\n",
    "import torch\n",
    "print(f\"Type du modèle : {type(model)}\")\n",
    "\n",
    "output_model_path = \"camembert_pos_gsd_article_best.pt\"\n",
    "torch.save(model.state_dict(), output_model_path)\n",
    "print(f\"Modèle sauvegardé sous : {output_model_path}\")"
   ]
  },
  {
   "cell_type": "markdown",
   "id": "99b34cb0-61f9-408e-bda0-eb111d43dd2c",
   "metadata": {},
   "source": [
    "### Lance les tests sur tout les Dataset"
   ]
  },
  {
   "cell_type": "code",
   "execution_count": null,
   "id": "73be8625-8e8c-4672-8bed-429eec784b74",
   "metadata": {},
   "outputs": [],
   "source": [
    "from fine_tuning.pos_test import test_pos\n",
    "from fine_tuning.ner_test import test_ner\n",
    "from fine_tuning.nli_test import test_nli\n",
    "from fine_tuning.parsing_test import test_parsing\n",
    "\n",
    "from transformers import CamembertTokenizer, CamembertForMaskedLM\n",
    "\n",
    "model_name = \"camembert-base\"  # Version 4GB\n",
    "tokenizer = CamembertTokenizer.from_pretrained(model_name)"
   ]
  },
  {
   "cell_type": "code",
   "execution_count": null,
   "id": "319fd181-22d7-4f51-83b6-81e7fa7eebc8",
   "metadata": {},
   "outputs": [],
   "source": [
    "label2id = {\n",
    "    \"ADJ\": 0,\n",
    "    \"ADP\": 1,\n",
    "    \"ADV\": 2,\n",
    "    \"AUX\": 3,\n",
    "    \"CCONJ\": 4,\n",
    "    \"DET\": 5,\n",
    "    \"INTJ\": 6,\n",
    "    \"NOUN\": 7,\n",
    "    \"NUM\": 8,\n",
    "    \"PART\": 9,\n",
    "    \"PRON\": 10,\n",
    "    \"PROPN\": 11,\n",
    "    \"PUNCT\": 12,\n",
    "    \"SCONJ\": 13,\n",
    "    \"SYM\": 14,\n",
    "    \"VERB\": 15,\n",
    "    \"X\": 16,\n",
    "    \"_\": 17\n",
    "}\n",
    "id2label = {\n",
    "    0: \"ADJ\",\n",
    "    1: \"ADP\",\n",
    "    2: \"ADV\",\n",
    "    3: \"AUX\",\n",
    "    4: \"CCONJ\",\n",
    "    5: \"DET\",\n",
    "    6: \"INTJ\",\n",
    "    7: \"NOUN\",\n",
    "    8: \"NUM\",\n",
    "    9: \"PART\",\n",
    "    10: \"PRON\",\n",
    "    11: \"PROPN\",\n",
    "    12: \"PUNCT\",\n",
    "    13: \"SCONJ\",\n",
    "    14: \"SYM\",\n",
    "    15: \"VERB\",\n",
    "    16: \"X\",\n",
    "    17: \"_\"\n",
    "}\n",
    "\n",
    "model_pretrain = \"camembert_article2_4GB.pt\"\n",
    "\n",
    "print(\"Dataset Rhapsodie :\")\n",
    "acc_pos_spoken = test_pos(\"camembert_pos_rhapsodie_article_best.pt\",\n",
    "               model_pretrain,\n",
    "               \"fr_rhapsodie-ud-test.conllu\",\n",
    "               tokenizer,\n",
    "               label2id,\n",
    "               id2label,\n",
    "                device=\"cuda\")\n",
    "\n",
    "print(\"\\nDataset Partut :\")\n",
    "acc_pos_ParTUT = test_pos(\"camembert_pos_partut_article_best.pt\",\n",
    "               model_pretrain,\n",
    "               \"fr_partut-ud-test.conllu\",\n",
    "               tokenizer,\n",
    "               label2id,\n",
    "               id2label,\n",
    "                device=\"cuda\")\n",
    "\n",
    "print(\"\\nDataset Sequoia :\")\n",
    "acc_pos_sequoia = test_pos(\"camembert_pos_sequoia_article_best.pt\",\n",
    "               model_pretrain,\n",
    "               \"fr_sequoia-ud-test.conllu\",\n",
    "               tokenizer,\n",
    "               label2id,\n",
    "               id2label,\n",
    "                device=\"cuda\")\n",
    "\n",
    "print(\"\\nDataset GSD :\")\n",
    "acc_pos_GSD = test_pos(\"camembert_pos_gsd_article_best.pt\",\n",
    "               model_pretrain,\n",
    "               \"fr_gsd-ud-test.conllu\",\n",
    "               tokenizer,\n",
    "               label2id,\n",
    "               id2label,\n",
    "                device=\"cuda\")"
   ]
  }
 ],
 "metadata": {
  "kernelspec": {
   "display_name": "Python 3 (ipykernel)",
   "language": "python",
   "name": "python3"
  },
  "language_info": {
   "codemirror_mode": {
    "name": "ipython",
    "version": 3
   },
   "file_extension": ".py",
   "mimetype": "text/x-python",
   "name": "python",
   "nbconvert_exporter": "python",
   "pygments_lexer": "ipython3",
   "version": "3.10.6"
  }
 },
 "nbformat": 4,
 "nbformat_minor": 5
}
