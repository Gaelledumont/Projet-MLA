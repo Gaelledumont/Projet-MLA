{
 "cells": [
  {
   "cell_type": "code",
   "execution_count": 1,
   "metadata": {},
   "outputs": [],
   "source": [
    "from fine_tuning.pos_test import test_pos\n",
    "from fine_tuning.ner_test import test_ner\n",
    "from fine_tuning.nli_test import test_nli\n",
    "from fine_tuning.parsing_test import test_parsing\n",
    "\n",
    "from tokenization.sentencepiece_tokenizer import SentencePieceTokenizer\n",
    "\n",
    "tokenizer = SentencePieceTokenizer(\"data/processed/spm.model\")"
   ]
  },
  {
   "cell_type": "code",
   "execution_count": 2,
   "metadata": {},
   "outputs": [
    {
     "name": "stderr",
     "output_type": "stream",
     "text": [
      "/home/solenn/Documents/Projet-MLA/model/camembert_for_pretraining.py:29: FutureWarning: You are using `torch.load` with `weights_only=False` (the current default value), which uses the default pickle module implicitly. It is possible to construct malicious pickle data which will execute arbitrary code during unpickling (See https://github.com/pytorch/pytorch/blob/main/SECURITY.md#untrusted-models for more details). In a future release, the default value for `weights_only` will be flipped to `True`. This limits the functions that could be executed during unpickling. Arbitrary objects will no longer be allowed to be loaded via this mode unless they are explicitly allowlisted by the user via `torch.serialization.add_safe_globals`. We recommend you start setting `weights_only=True` for any use case where you don't have full control of the loaded file. Please open an issue on GitHub for any issues related to this experimental feature.\n",
      "  state = torch.load(path, map_location=device)\n",
      "/home/solenn/Documents/Projet-MLA/fine_tuning/pos_test.py:30: FutureWarning: You are using `torch.load` with `weights_only=False` (the current default value), which uses the default pickle module implicitly. It is possible to construct malicious pickle data which will execute arbitrary code during unpickling (See https://github.com/pytorch/pytorch/blob/main/SECURITY.md#untrusted-models for more details). In a future release, the default value for `weights_only` will be flipped to `True`. This limits the functions that could be executed during unpickling. Arbitrary objects will no longer be allowed to be loaded via this mode unless they are explicitly allowlisted by the user via `torch.serialization.add_safe_globals`. We recommend you start setting `weights_only=True` for any use case where you don't have full control of the loaded file. Please open an issue on GitHub for any issues related to this experimental feature.\n",
      "  state = torch.load(best_model_path, map_location=device)\n",
      "100%|██████████| 26/26 [05:44<00:00, 13.24s/it]\n"
     ]
    },
    {
     "name": "stdout",
     "output_type": "stream",
     "text": [
      "[TEST - POS] accuracy = 65.98%\n"
     ]
    },
    {
     "ename": "FileNotFoundError",
     "evalue": "[Errno 2] No such file or directory: 'pos_finetuned_partut_10_3e5.pt'",
     "output_type": "error",
     "traceback": [
      "\u001b[0;31m---------------------------------------------------------------------------\u001b[0m",
      "\u001b[0;31mFileNotFoundError\u001b[0m                         Traceback (most recent call last)",
      "Cell \u001b[0;32mIn[2], line 50\u001b[0m\n\u001b[1;32m     21\u001b[0m id2label \u001b[38;5;241m=\u001b[39m {\n\u001b[1;32m     22\u001b[0m     \u001b[38;5;241m0\u001b[39m: \u001b[38;5;124m\"\u001b[39m\u001b[38;5;124mADJ\u001b[39m\u001b[38;5;124m\"\u001b[39m,\n\u001b[1;32m     23\u001b[0m     \u001b[38;5;241m1\u001b[39m: \u001b[38;5;124m\"\u001b[39m\u001b[38;5;124mADP\u001b[39m\u001b[38;5;124m\"\u001b[39m,\n\u001b[0;32m   (...)\u001b[0m\n\u001b[1;32m     39\u001b[0m     \u001b[38;5;241m17\u001b[39m: \u001b[38;5;124m\"\u001b[39m\u001b[38;5;124mO\u001b[39m\u001b[38;5;124m\"\u001b[39m\n\u001b[1;32m     40\u001b[0m }\n\u001b[1;32m     42\u001b[0m acc \u001b[38;5;241m=\u001b[39m test_pos(\u001b[38;5;124m\"\u001b[39m\u001b[38;5;124mpos_finetuned_GSD_10epochs_3e5.pt\u001b[39m\u001b[38;5;124m\"\u001b[39m,\n\u001b[1;32m     43\u001b[0m                \u001b[38;5;124m\"\u001b[39m\u001b[38;5;124mcamembert_pretrained_4gb.pt\u001b[39m\u001b[38;5;124m\"\u001b[39m,\n\u001b[1;32m     44\u001b[0m                \u001b[38;5;124m\"\u001b[39m\u001b[38;5;124mfr_gsd-ud-test.conllu\u001b[39m\u001b[38;5;124m\"\u001b[39m,\n\u001b[0;32m   (...)\u001b[0m\n\u001b[1;32m     47\u001b[0m                id2label,\n\u001b[1;32m     48\u001b[0m                 device\u001b[38;5;241m=\u001b[39m\u001b[38;5;124m\"\u001b[39m\u001b[38;5;124mcpu\u001b[39m\u001b[38;5;124m\"\u001b[39m)\n\u001b[0;32m---> 50\u001b[0m acc \u001b[38;5;241m=\u001b[39m \u001b[43mtest_pos\u001b[49m\u001b[43m(\u001b[49m\u001b[38;5;124;43m\"\u001b[39;49m\u001b[38;5;124;43mpos_finetuned_partut_10_3e5.pt\u001b[39;49m\u001b[38;5;124;43m\"\u001b[39;49m\u001b[43m,\u001b[49m\n\u001b[1;32m     51\u001b[0m \u001b[43m               \u001b[49m\u001b[38;5;124;43m\"\u001b[39;49m\u001b[38;5;124;43mcamembert_pretrained_4gb.pt\u001b[39;49m\u001b[38;5;124;43m\"\u001b[39;49m\u001b[43m,\u001b[49m\n\u001b[1;32m     52\u001b[0m \u001b[43m               \u001b[49m\u001b[38;5;124;43m\"\u001b[39;49m\u001b[38;5;124;43mfr_partut-ud-test.conllu\u001b[39;49m\u001b[38;5;124;43m\"\u001b[39;49m\u001b[43m,\u001b[49m\n\u001b[1;32m     53\u001b[0m \u001b[43m               \u001b[49m\u001b[43mtokenizer\u001b[49m\u001b[43m,\u001b[49m\n\u001b[1;32m     54\u001b[0m \u001b[43m               \u001b[49m\u001b[43mlabel2id\u001b[49m\u001b[43m,\u001b[49m\n\u001b[1;32m     55\u001b[0m \u001b[43m               \u001b[49m\u001b[43mid2label\u001b[49m\u001b[43m,\u001b[49m\n\u001b[1;32m     56\u001b[0m \u001b[43m                \u001b[49m\u001b[43mdevice\u001b[49m\u001b[38;5;241;43m=\u001b[39;49m\u001b[38;5;124;43m\"\u001b[39;49m\u001b[38;5;124;43mcpu\u001b[39;49m\u001b[38;5;124;43m\"\u001b[39;49m\u001b[43m)\u001b[49m\n\u001b[1;32m     58\u001b[0m acc \u001b[38;5;241m=\u001b[39m test_pos(\u001b[38;5;124m\"\u001b[39m\u001b[38;5;124mpos_finetuned_rhapsodie_10_3e5.pt\u001b[39m\u001b[38;5;124m\"\u001b[39m,\n\u001b[1;32m     59\u001b[0m                \u001b[38;5;124m\"\u001b[39m\u001b[38;5;124mcamembert_pretrained_4gb.pt\u001b[39m\u001b[38;5;124m\"\u001b[39m,\n\u001b[1;32m     60\u001b[0m                \u001b[38;5;124m\"\u001b[39m\u001b[38;5;124mfr_rhapsodie-ud-test.conllu\u001b[39m\u001b[38;5;124m\"\u001b[39m,\n\u001b[0;32m   (...)\u001b[0m\n\u001b[1;32m     63\u001b[0m                id2label,\n\u001b[1;32m     64\u001b[0m                 device\u001b[38;5;241m=\u001b[39m\u001b[38;5;124m\"\u001b[39m\u001b[38;5;124mcpu\u001b[39m\u001b[38;5;124m\"\u001b[39m)\n\u001b[1;32m     66\u001b[0m acc \u001b[38;5;241m=\u001b[39m test_pos(\u001b[38;5;124m\"\u001b[39m\u001b[38;5;124mpos_finetuned_sequoia_10epochs_4e5.pt\u001b[39m\u001b[38;5;124m\"\u001b[39m,\n\u001b[1;32m     67\u001b[0m                \u001b[38;5;124m\"\u001b[39m\u001b[38;5;124mcamembert_pretrained_4gb.pt\u001b[39m\u001b[38;5;124m\"\u001b[39m,\n\u001b[1;32m     68\u001b[0m                \u001b[38;5;124m\"\u001b[39m\u001b[38;5;124mfr_sequoia-ud-test.conllu\u001b[39m\u001b[38;5;124m\"\u001b[39m,\n\u001b[0;32m   (...)\u001b[0m\n\u001b[1;32m     71\u001b[0m                id2label,\n\u001b[1;32m     72\u001b[0m                 device\u001b[38;5;241m=\u001b[39m\u001b[38;5;124m\"\u001b[39m\u001b[38;5;124mcpu\u001b[39m\u001b[38;5;124m\"\u001b[39m)\n",
      "File \u001b[0;32m~/Documents/Projet-MLA/fine_tuning/pos_test.py:30\u001b[0m, in \u001b[0;36mtest_pos\u001b[0;34m(best_model_path, base_pretrained_path, test_path, tokenizer, label2id, i2dlabel, batch_size, device)\u001b[0m\n\u001b[1;32m     27\u001b[0m model \u001b[38;5;241m=\u001b[39m CamembertForTokenClassification(pretrained, num_labels\u001b[38;5;241m=\u001b[39mnum_labels)\u001b[38;5;241m.\u001b[39mto(device)\n\u001b[1;32m     29\u001b[0m \u001b[38;5;66;03m# On charge le modèle fine-tuné\u001b[39;00m\n\u001b[0;32m---> 30\u001b[0m state \u001b[38;5;241m=\u001b[39m \u001b[43mtorch\u001b[49m\u001b[38;5;241;43m.\u001b[39;49m\u001b[43mload\u001b[49m\u001b[43m(\u001b[49m\u001b[43mbest_model_path\u001b[49m\u001b[43m,\u001b[49m\u001b[43m \u001b[49m\u001b[43mmap_location\u001b[49m\u001b[38;5;241;43m=\u001b[39;49m\u001b[43mdevice\u001b[49m\u001b[43m)\u001b[49m\n\u001b[1;32m     31\u001b[0m model\u001b[38;5;241m.\u001b[39mload_state_dict(state)\n\u001b[1;32m     33\u001b[0m \u001b[38;5;66;03m# 2) On charge le test dataset\u001b[39;00m\n",
      "File \u001b[0;32m~/.local/lib/python3.8/site-packages/torch/serialization.py:1065\u001b[0m, in \u001b[0;36mload\u001b[0;34m(f, map_location, pickle_module, weights_only, mmap, **pickle_load_args)\u001b[0m\n\u001b[1;32m   1062\u001b[0m \u001b[38;5;28;01mif\u001b[39;00m \u001b[38;5;124m'\u001b[39m\u001b[38;5;124mencoding\u001b[39m\u001b[38;5;124m'\u001b[39m \u001b[38;5;129;01mnot\u001b[39;00m \u001b[38;5;129;01min\u001b[39;00m pickle_load_args\u001b[38;5;241m.\u001b[39mkeys():\n\u001b[1;32m   1063\u001b[0m     pickle_load_args[\u001b[38;5;124m'\u001b[39m\u001b[38;5;124mencoding\u001b[39m\u001b[38;5;124m'\u001b[39m] \u001b[38;5;241m=\u001b[39m \u001b[38;5;124m'\u001b[39m\u001b[38;5;124mutf-8\u001b[39m\u001b[38;5;124m'\u001b[39m\n\u001b[0;32m-> 1065\u001b[0m \u001b[38;5;28;01mwith\u001b[39;00m \u001b[43m_open_file_like\u001b[49m\u001b[43m(\u001b[49m\u001b[43mf\u001b[49m\u001b[43m,\u001b[49m\u001b[43m \u001b[49m\u001b[38;5;124;43m'\u001b[39;49m\u001b[38;5;124;43mrb\u001b[39;49m\u001b[38;5;124;43m'\u001b[39;49m\u001b[43m)\u001b[49m \u001b[38;5;28;01mas\u001b[39;00m opened_file:\n\u001b[1;32m   1066\u001b[0m     \u001b[38;5;28;01mif\u001b[39;00m _is_zipfile(opened_file):\n\u001b[1;32m   1067\u001b[0m         \u001b[38;5;66;03m# The zipfile reader is going to advance the current file position.\u001b[39;00m\n\u001b[1;32m   1068\u001b[0m         \u001b[38;5;66;03m# If we want to actually tail call to torch.jit.load, we need to\u001b[39;00m\n\u001b[1;32m   1069\u001b[0m         \u001b[38;5;66;03m# reset back to the original position.\u001b[39;00m\n\u001b[1;32m   1070\u001b[0m         orig_position \u001b[38;5;241m=\u001b[39m opened_file\u001b[38;5;241m.\u001b[39mtell()\n",
      "File \u001b[0;32m~/.local/lib/python3.8/site-packages/torch/serialization.py:468\u001b[0m, in \u001b[0;36m_open_file_like\u001b[0;34m(name_or_buffer, mode)\u001b[0m\n\u001b[1;32m    466\u001b[0m \u001b[38;5;28;01mdef\u001b[39;00m \u001b[38;5;21m_open_file_like\u001b[39m(name_or_buffer, mode):\n\u001b[1;32m    467\u001b[0m     \u001b[38;5;28;01mif\u001b[39;00m _is_path(name_or_buffer):\n\u001b[0;32m--> 468\u001b[0m         \u001b[38;5;28;01mreturn\u001b[39;00m \u001b[43m_open_file\u001b[49m\u001b[43m(\u001b[49m\u001b[43mname_or_buffer\u001b[49m\u001b[43m,\u001b[49m\u001b[43m \u001b[49m\u001b[43mmode\u001b[49m\u001b[43m)\u001b[49m\n\u001b[1;32m    469\u001b[0m     \u001b[38;5;28;01melse\u001b[39;00m:\n\u001b[1;32m    470\u001b[0m         \u001b[38;5;28;01mif\u001b[39;00m \u001b[38;5;124m'\u001b[39m\u001b[38;5;124mw\u001b[39m\u001b[38;5;124m'\u001b[39m \u001b[38;5;129;01min\u001b[39;00m mode:\n",
      "File \u001b[0;32m~/.local/lib/python3.8/site-packages/torch/serialization.py:449\u001b[0m, in \u001b[0;36m_open_file.__init__\u001b[0;34m(self, name, mode)\u001b[0m\n\u001b[1;32m    448\u001b[0m \u001b[38;5;28;01mdef\u001b[39;00m \u001b[38;5;21m__init__\u001b[39m(\u001b[38;5;28mself\u001b[39m, name, mode):\n\u001b[0;32m--> 449\u001b[0m     \u001b[38;5;28msuper\u001b[39m()\u001b[38;5;241m.\u001b[39m\u001b[38;5;21m__init__\u001b[39m(\u001b[38;5;28;43mopen\u001b[39;49m\u001b[43m(\u001b[49m\u001b[43mname\u001b[49m\u001b[43m,\u001b[49m\u001b[43m \u001b[49m\u001b[43mmode\u001b[49m\u001b[43m)\u001b[49m)\n",
      "\u001b[0;31mFileNotFoundError\u001b[0m: [Errno 2] No such file or directory: 'pos_finetuned_partut_10_3e5.pt'"
     ]
    }
   ],
   "source": [
    "label2id = {\n",
    "    \"ADJ\": 0,\n",
    "    \"ADP\": 1,\n",
    "    \"ADV\": 2,\n",
    "    \"AUX\": 3,\n",
    "    \"CCONJ\": 4,\n",
    "    \"DET\": 5,\n",
    "    \"INTJ\": 6,\n",
    "    \"NOUN\": 7,\n",
    "    \"NUM\": 8,\n",
    "    \"PART\": 9,\n",
    "    \"PRON\": 10,\n",
    "    \"PROPN\": 11,\n",
    "    \"PUNCT\": 12,\n",
    "    \"SCONJ\": 13,\n",
    "    \"SYM\": 14,\n",
    "    \"VERB\": 15,\n",
    "    \"X\": 16,\n",
    "    \"O\": 17\n",
    "}\n",
    "id2label = {\n",
    "    0: \"ADJ\",\n",
    "    1: \"ADP\",\n",
    "    2: \"ADV\",\n",
    "    3: \"AUX\",\n",
    "    4: \"CCONJ\",\n",
    "    5: \"DET\",\n",
    "    6: \"INTJ\",\n",
    "    7: \"NOUN\",\n",
    "    8: \"NUM\",\n",
    "    9: \"PART\",\n",
    "    10: \"PRON\",\n",
    "    11: \"PROPN\",\n",
    "    12: \"PUNCT\",\n",
    "    13: \"SCONJ\",\n",
    "    14: \"SYM\",\n",
    "    15: \"VERB\",\n",
    "    16: \"X\",\n",
    "    17: \"O\"\n",
    "}\n",
    "\n",
    "acc = test_pos(\"pos_finetuned_GSD_10epochs_3e5.pt\",\n",
    "               \"camembert_pretrained_4gb.pt\",\n",
    "               \"fr_gsd-ud-test.conllu\",\n",
    "               tokenizer,\n",
    "               label2id,\n",
    "               id2label,\n",
    "                device=\"cpu\")\n",
    "\n",
    "acc = test_pos(\"pos_finetuned_partut_10ep_3e5.pt\",\n",
    "               \"camembert_pretrained_4gb.pt\",\n",
    "               \"fr_partut-ud-test.conllu\",\n",
    "               tokenizer,\n",
    "               label2id,\n",
    "               id2label,\n",
    "                device=\"cpu\")\n",
    "\n",
    "acc = test_pos(\"pos_finetuned_rhapsodie_10ep_3e5.pt\",\n",
    "               \"camembert_pretrained_4gb.pt\",\n",
    "               \"fr_rhapsodie-ud-test.conllu\",\n",
    "               tokenizer,\n",
    "               label2id,\n",
    "               id2label,\n",
    "                device=\"cpu\")\n",
    "\n",
    "acc = test_pos(\"pos_finetuned_sequoia_10epochs_4e5.pt\",\n",
    "               \"camembert_pretrained_4gb.pt\",\n",
    "               \"fr_sequoia-ud-test.conllu\",\n",
    "               tokenizer,\n",
    "               label2id,\n",
    "               id2label,\n",
    "                device=\"cpu\")"
   ]
  }
 ],
 "metadata": {
  "kernelspec": {
   "display_name": "Python 3",
   "language": "python",
   "name": "python3"
  },
  "language_info": {
   "codemirror_mode": {
    "name": "ipython",
    "version": 3
   },
   "file_extension": ".py",
   "mimetype": "text/x-python",
   "name": "python",
   "nbconvert_exporter": "python",
   "pygments_lexer": "ipython3",
   "version": "3.8.10"
  }
 },
 "nbformat": 4,
 "nbformat_minor": 2
}
