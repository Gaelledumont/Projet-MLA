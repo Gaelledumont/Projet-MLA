{
 "cells": [
  {
   "cell_type": "code",
   "execution_count": null,
   "id": "5f617d61-dbe8-44fa-9df6-737b711d1027",
   "metadata": {},
   "outputs": [
    {
     "name": "stderr",
     "output_type": "stream",
     "text": [
      "Epoch 1:  59%|█████▉    | 3919/6614 [39:58<25:39,  1.75it/s] "
     ]
    }
   ],
   "source": [
    "from Camembert_4GB_model.ner_trainer import train_ner\n",
    "from transformers import CamembertTokenizer, CamembertForMaskedLM\n",
    "import os\n",
    "\n",
    "os.environ[\"CUDA_VISIBLE_DEVICES\"] = \"1\"\n",
    "model_name = \"camembert-base\"  # Version 4GB\n",
    "tokenizer = CamembertTokenizer.from_pretrained(model_name)\n",
    "\n",
    "label2id={'B-LOC': 0, 'B-PER': 1, 'I-LOC': 2, 'I-MISC': 3, 'I-ORG': 4, 'I-PER': 5, 'O': 6, 'B-MISC': 7, 'B-ORG': 8}\n",
    "\n",
    "id2label = {\n",
    "    0: \"B-LOC\",\n",
    "    1: \"B-PER\",\n",
    "    2: \"I-LOC\",\n",
    "    3: \"I-MISC\",\n",
    "    4: \"I-ORG\",\n",
    "    5: \"I-PER\",\n",
    "    6: \"O\",\n",
    "    7: \"B-MISC\",\n",
    "    8: \"B-ORG\"\n",
    "}\n",
    "\n",
    "\n",
    "model = train_ner(\n",
    "    pretrained_path=\"camembert_article_4GB.pt\",\n",
    "    train_path=\"data/tasks/ner/wiki_fr_train.txt\",\n",
    "    dev_path=\"data/tasks/ner/wiki_fr_dev.txt\",\n",
    "    tokenizer=tokenizer,\n",
    "    label2id=label2id,\n",
    "    id2label=id2label,\n",
    "    num_labels=len(label2id),\n",
    "    lr=3e-5,\n",
    "    epochs=3,\n",
    "    batch_size=16,\n",
    "    device='cuda',\n",
    "    out_model_path = \"camembert_ner_article_best.pt\"\n",
    ")\n"
   ]
  },
  {
   "cell_type": "code",
   "execution_count": null,
   "id": "446b300a-57cf-4f54-8578-d894c3e38123",
   "metadata": {},
   "outputs": [],
   "source": []
  }
 ],
 "metadata": {
  "kernelspec": {
   "display_name": "Python 3 (ipykernel)",
   "language": "python",
   "name": "python3"
  },
  "language_info": {
   "codemirror_mode": {
    "name": "ipython",
    "version": 3
   },
   "file_extension": ".py",
   "mimetype": "text/x-python",
   "name": "python",
   "nbconvert_exporter": "python",
   "pygments_lexer": "ipython3",
   "version": "3.10.6"
  }
 },
 "nbformat": 4,
 "nbformat_minor": 5
}
