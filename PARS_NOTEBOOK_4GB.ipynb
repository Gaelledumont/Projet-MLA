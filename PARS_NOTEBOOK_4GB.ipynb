{
 "cells": [
  {
   "cell_type": "markdown",
   "id": "c495f1d5-81e2-450c-b001-28e4dbc67b31",
   "metadata": {},
   "source": [
    "# PARSING"
   ]
  },
  {
   "cell_type": "code",
   "execution_count": 6,
   "id": "b78d8759-2217-4f4c-9148-2242ecfe4656",
   "metadata": {},
   "outputs": [
    {
     "name": "stderr",
     "output_type": "stream",
     "text": [
      "Epoch 1: 100%|██████████| 51/51 [00:39<00:00,  1.28it/s]\n"
     ]
    },
    {
     "name": "stdout",
     "output_type": "stream",
     "text": [
      "[Epoch 1] train loss=7.0670\n",
      "[Epoch 1] dev UAS=19.47, LAS=2.62\n",
      "New best dev LAS=2.62%\n"
     ]
    },
    {
     "name": "stderr",
     "output_type": "stream",
     "text": [
      "Epoch 2: 100%|██████████| 51/51 [00:40<00:00,  1.27it/s]\n"
     ]
    },
    {
     "name": "stdout",
     "output_type": "stream",
     "text": [
      "[Epoch 2] train loss=4.2939\n",
      "[Epoch 2] dev UAS=23.96, LAS=17.27\n",
      "New best dev LAS=17.27%\n"
     ]
    },
    {
     "name": "stderr",
     "output_type": "stream",
     "text": [
      "Epoch 3: 100%|██████████| 51/51 [00:40<00:00,  1.27it/s]\n"
     ]
    },
    {
     "name": "stdout",
     "output_type": "stream",
     "text": [
      "[Epoch 3] train loss=3.1781\n",
      "[Epoch 3] dev UAS=25.88, LAS=20.64\n",
      "New best dev LAS=20.64%\n"
     ]
    },
    {
     "name": "stderr",
     "output_type": "stream",
     "text": [
      "Epoch 4: 100%|██████████| 51/51 [00:40<00:00,  1.27it/s]\n"
     ]
    },
    {
     "name": "stdout",
     "output_type": "stream",
     "text": [
      "[Epoch 4] train loss=2.7479\n",
      "[Epoch 4] dev UAS=37.01, LAS=33.37\n",
      "New best dev LAS=33.37%\n"
     ]
    },
    {
     "name": "stderr",
     "output_type": "stream",
     "text": [
      "Epoch 5: 100%|██████████| 51/51 [00:40<00:00,  1.27it/s]\n"
     ]
    },
    {
     "name": "stdout",
     "output_type": "stream",
     "text": [
      "[Epoch 5] train loss=2.0520\n",
      "[Epoch 5] dev UAS=57.70, LAS=53.96\n",
      "New best dev LAS=53.96%\n"
     ]
    },
    {
     "name": "stderr",
     "output_type": "stream",
     "text": [
      "Epoch 6: 100%|██████████| 51/51 [00:40<00:00,  1.26it/s]\n"
     ]
    },
    {
     "name": "stdout",
     "output_type": "stream",
     "text": [
      "[Epoch 6] train loss=1.5506\n",
      "[Epoch 6] dev UAS=67.33, LAS=63.69\n",
      "New best dev LAS=63.69%\n"
     ]
    },
    {
     "name": "stderr",
     "output_type": "stream",
     "text": [
      "Epoch 7: 100%|██████████| 51/51 [00:40<00:00,  1.26it/s]\n"
     ]
    },
    {
     "name": "stdout",
     "output_type": "stream",
     "text": [
      "[Epoch 7] train loss=1.2770\n",
      "[Epoch 7] dev UAS=69.20, LAS=65.51\n",
      "New best dev LAS=65.51%\n"
     ]
    },
    {
     "name": "stderr",
     "output_type": "stream",
     "text": [
      "Epoch 8: 100%|██████████| 51/51 [00:40<00:00,  1.26it/s]\n"
     ]
    },
    {
     "name": "stdout",
     "output_type": "stream",
     "text": [
      "[Epoch 8] train loss=1.1260\n",
      "[Epoch 8] dev UAS=75.56, LAS=72.09\n",
      "New best dev LAS=72.09%\n",
      "Best model saved => camembert_pos_partut_article_best.pt (LAS=72.09%)\n"
     ]
    }
   ],
   "source": [
    "from Camembert_4GB_model.parsing_trainer import train_parsing\n",
    "from transformers import CamembertTokenizer, CamembertForMaskedLM\n",
    "import os\n",
    "\n",
    "os.environ[\"CUDA_VISIBLE_DEVICES\"] = \"1\"\n",
    "model_name = \"camembert-base\"  # Version 4GB\n",
    "tokenizer = CamembertTokenizer.from_pretrained(model_name)\n",
    "rel2id = {'_': 0, 'acl': 1, 'acl:relcl': 2, 'advcl': 3, 'advmod': 4, 'amod': 5, 'appos': 6, 'aux': 7, 'aux:caus': 8, 'aux:pass': 9, 'case': 10, 'cc': 11, 'ccomp': 12, 'compound': 13, 'conj': 14, 'cop': 15, 'csubj': 16, 'csubj:pass': 17, 'dep': 18, 'det': 19, 'discourse': 20, 'dislocated': 21, 'expl': 22, 'fixed': 23, 'flat': 24, 'flat:foreign': 25, 'flat:name': 26, 'iobj': 27, 'iobj:agent': 28, 'mark': 29, 'nmod': 30, 'nsubj': 31, 'nsubj:caus': 32, 'nsubj:pass': 33, 'nummod': 34, 'obj': 35, 'obj:agent': 36, 'obl': 37, 'obl:agent': 38, 'orphan': 39, 'parataxis': 40, 'punct': 41, 'root': 42, 'vocative': 43, 'xcomp': 44}\n",
    "\n",
    "model = train_parsing(\n",
    "    pretrained_path=\"camembert_article_4GB.pt\",\n",
    "    train_path=\"data/tasks/parsing/fr_partut-ud-train.conllu\",\n",
    "    dev_path=\"data/tasks/parsing/fr_partut-ud-dev.conllu\",\n",
    "    tokenizer=tokenizer,\n",
    "    rel2id=rel2id,\n",
    "    n_rels = len(rel2id),\n",
    "    device='cuda',\n",
    "    out_model_path = \"camembert_pos_partut_article_best.pt\",\n",
    "    epochs = 8\n",
    ")\n"
   ]
  },
  {
   "cell_type": "code",
   "execution_count": 7,
   "id": "da5c7cdf-8d62-444e-9292-410ede695586",
   "metadata": {},
   "outputs": [
    {
     "name": "stdout",
     "output_type": "stream",
     "text": [
      "Rhapsodie\n",
      "Label inconnu obl\n",
      "Label inconnu orphan\n",
      "Label inconnu obl\n",
      "[TEST - Parsing] UAS=69.72, LAS=64.86\n",
      "Partut\n",
      "[TEST - Parsing] UAS=70.80, LAS=68.31\n",
      "GSD\n",
      "[TEST - Parsing] UAS=94.03, LAS=91.28\n",
      "Sequoia\n",
      "[TEST - Parsing] UAS=93.26, LAS=91.19\n"
     ]
    }
   ],
   "source": [
    "from Camembert_4GB_model.parsing_test import test_parsing\n",
    "from transformers import CamembertTokenizer, CamembertForMaskedLM\n",
    "import os\n",
    "\n",
    "os.environ[\"CUDA_VISIBLE_DEVICES\"] = \"1\"\n",
    "model_name = \"camembert-base\"  # Version 4GB\n",
    "tokenizer = CamembertTokenizer.from_pretrained(model_name)\n",
    "rel2id = {'_': 0, 'acl': 1, 'acl:relcl': 2, 'advcl': 3, 'advcl:cleft': 4, 'advmod': 5, 'amod': 6, 'appos': 7, 'aux': 8, 'aux:caus': 9, 'aux:pass': 10, 'aux:tense': 11, 'case': 12, 'cc': 13, 'ccomp': 14, 'compound': 15, 'conj': 16, 'cop': 17, 'csubj': 18, 'csubj:pass': 19, 'dep': 20, 'dep:comp': 21, 'det': 22, 'discourse': 23, 'dislocated': 24, 'expl:comp': 25, 'expl:pass': 26, 'expl:subj': 27, 'fixed': 28, 'flat': 29, 'flat:name': 30, 'iobj': 31, 'mark': 32, 'nmod': 33, 'nmod:appos': 34, 'nsubj': 35, 'nsubj:caus': 36, 'nsubj:pass': 37, 'nummod': 38, 'obj': 39, 'obj:lvc': 40, 'obl:agent': 41, 'obl:arg': 42, 'obl:mod': 43, 'parataxis': 44, 'parataxis:insert': 45, 'parataxis:parenth': 46, 'punct': 47, 'reparandum': 48, 'root': 49, 'vocative': 50, 'xcomp': 51}\n",
    "\n",
    "print(\"Rhapsodie\")\n",
    "acc_parsing_spoken = test_parsing(\"camembert_pos_rhapsodie_article_best.pt\",\n",
    "    \"camembert_article_4GB.pt\",\n",
    "    \"data/tasks/parsing/fr_rhapsodie-ud-test.conllu\",\n",
    "    tokenizer,\n",
    "    rel2id,\n",
    "    arc_dim=512,\n",
    "    rel_dim=512,\n",
    "    n_rels=len(rel2id),\n",
    "    batch_size=16,\n",
    "    device='cuda')\n",
    "\n",
    "rel2id = {'_': 0, 'acl': 1, 'acl:relcl': 2, 'advcl': 3, 'advmod': 4, 'amod': 5, 'appos': 6, 'aux': 7, 'aux:caus': 8, 'aux:pass': 9, 'case': 10, 'cc': 11, 'ccomp': 12, 'compound': 13, 'conj': 14, 'cop': 15, 'csubj': 16, 'csubj:pass': 17, 'dep': 18, 'det': 19, 'discourse': 20, 'dislocated': 21, 'expl': 22, 'fixed': 23, 'flat': 24, 'flat:foreign': 25, 'flat:name': 26, 'iobj': 27, 'iobj:agent': 28, 'mark': 29, 'nmod': 30, 'nsubj': 31, 'nsubj:caus': 32, 'nsubj:pass': 33, 'nummod': 34, 'obj': 35, 'obj:agent': 36, 'obl': 37, 'obl:agent': 38, 'orphan': 39, 'parataxis': 40, 'punct': 41, 'root': 42, 'vocative': 43, 'xcomp': 44}\n",
    "print(\"Partut\")\n",
    "acc_parsing_parTUT = test_parsing(\"camembert_pos_partut_article_best.pt\",\n",
    "    \"camembert_article_4GB.pt\",\n",
    "    \"data/tasks/parsing/fr_partut-ud-test.conllu\",\n",
    "    tokenizer,\n",
    "    rel2id,\n",
    "    arc_dim=512,\n",
    "    rel_dim=512,\n",
    "    n_rels=len(rel2id),\n",
    "    batch_size=16,\n",
    "    device='cuda')\n",
    "\n",
    "rel2id = {\n",
    "    '_': 0, 'acl': 1, 'acl:relcl': 2, 'advcl': 3, 'advcl:cleft': 4, 'advmod': 5, 'amod': 6, 'appos': 7, 'aux': 8, 'aux:caus': 9,\n",
    "    'aux:pass': 10, 'aux:tense': 11, 'case': 12, 'cc': 13, 'ccomp': 14, 'compound': 15, 'conj': 16, 'cop': 17, 'csubj': 18,\n",
    "    'csubj:pass': 19, 'dep': 20, 'dep:comp': 21, 'det': 22, 'discourse': 23, 'dislocated': 24, 'expl:comp': 25, 'expl:pass': 26,\n",
    "    'expl:pv': 27, 'expl:subj': 28, 'fixed': 29, 'flat': 30, 'flat:foreign': 31, 'flat:name': 32, 'goeswith': 33, 'iobj': 34,\n",
    "    'iobj:agent': 35, 'mark': 36, 'nmod': 37, 'nsubj': 38, 'nsubj:caus': 39, 'nsubj:outer': 40, 'nsubj:pass': 41, 'nummod': 42,\n",
    "    'obj': 43, 'obj:agent': 44, 'obj:lvc': 45, 'obl': 46, 'obl:agent': 47, 'obl:arg': 48, 'obl:mod': 49, 'orphan': 50, 'parataxis': 51,\n",
    "    'parataxis:insert': 52, 'punct': 53, 'root': 54, 'vocative': 55, 'xcomp': 56\n",
    "}\n",
    "print(\"GSD\")\n",
    "acc_parsing_GSD = test_parsing(\"camembert_pos_gsd_article_best.pt\",\n",
    "    \"camembert_article_4GB.pt\",\n",
    "    \"data/tasks/parsing/fr_gsd-ud-test.conllu\",\n",
    "    tokenizer,\n",
    "    rel2id,\n",
    "    arc_dim=512,\n",
    "    rel_dim=512,\n",
    "    n_rels=len(rel2id),\n",
    "    batch_size=16,\n",
    "    device='cuda')\n",
    "print(\"Sequoia\")\n",
    "acc_parsing_sequoia = test_parsing(\"camembert_pos_sequoia_article_best.pt\",\n",
    "    \"camembert_article_4GB.pt\",\n",
    "    \"data/tasks/parsing/fr_sequoia-ud-test.conllu\",\n",
    "    tokenizer,\n",
    "    rel2id,\n",
    "    arc_dim=512,\n",
    "    rel_dim=512,\n",
    "    n_rels=len(rel2id),\n",
    "    batch_size=16,\n",
    "    device='cuda')"
   ]
  },
  {
   "cell_type": "code",
   "execution_count": null,
   "id": "3218af51-012a-4627-b358-93c5da87e60a",
   "metadata": {},
   "outputs": [],
   "source": []
  }
 ],
 "metadata": {
  "kernelspec": {
   "display_name": "Python 3 (ipykernel)",
   "language": "python",
   "name": "python3"
  },
  "language_info": {
   "codemirror_mode": {
    "name": "ipython",
    "version": 3
   },
   "file_extension": ".py",
   "mimetype": "text/x-python",
   "name": "python",
   "nbconvert_exporter": "python",
   "pygments_lexer": "ipython3",
   "version": "3.10.6"
  }
 },
 "nbformat": 4,
 "nbformat_minor": 5
}
